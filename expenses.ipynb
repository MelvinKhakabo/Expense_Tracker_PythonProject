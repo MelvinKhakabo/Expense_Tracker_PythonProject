{
 "cells": [
  {
   "cell_type": "markdown",
   "metadata": {},
   "source": [
    "# Expense_Tracker_PythonProject\n",
    "An app to track income and expenses.\n",
    "\n",
    "# Expense Tracker\n",
    "## Objective\n",
    "Create an app to track income and expenses.\n",
    "\n",
    "## Features\n",
    "Add transactions with details (income or expense, amount, category, date).\n",
    "View transaction history.\n",
    "Calculate total balance.\n",
    "Filter transactions by category or date range."
   ]
  }
 ],
 "metadata": {
  "language_info": {
   "name": "python"
  }
 },
 "nbformat": 4,
 "nbformat_minor": 2
}
